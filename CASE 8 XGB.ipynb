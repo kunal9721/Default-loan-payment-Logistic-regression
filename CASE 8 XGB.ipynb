{
 "cells": [
  {
   "cell_type": "code",
   "execution_count": 3,
   "metadata": {},
   "outputs": [
    {
     "name": "stderr",
     "output_type": "stream",
     "text": [
      "C:\\Users\\Lenovo\\Anaconda3\\lib\\site-packages\\sklearn\\externals\\six.py:31: DeprecationWarning: The module is deprecated in version 0.21 and will be removed in version 0.23 since we've dropped support for Python 2.7. Please rely on the official version of six (https://pypi.org/project/six/).\n",
      "  \"(https://pypi.org/project/six/).\", DeprecationWarning)\n"
     ]
    }
   ],
   "source": [
    "import pandas as pd\n",
    "import numpy as np \n",
    "import seaborn as sns\n",
    "import sklearn \n",
    "import os\n",
    "import matplotlib.pyplot as plt\n",
    "from sklearn.model_selection import train_test_split\n",
    "from sklearn import preprocessing\n",
    "from sklearn.impute import SimpleImputer\n",
    "from sklearn.preprocessing import LabelEncoder\n",
    "# Import model\n",
    "from sklearn.linear_model import LogisticRegression\n",
    "from sklearn.svm import SVC\n",
    "from sklearn.neighbors import KNeighborsClassifier\n",
    "from sklearn.tree import DecisionTreeClassifier\n",
    "from sklearn.ensemble import RandomForestClassifier\n",
    "from xgboost import XGBClassifier\n",
    "from sklearn.model_selection import train_test_split\n",
    "from imblearn.over_sampling import SMOTE\n",
    "from sklearn.metrics import classification_report, confusion_matrix, accuracy_score,f1_score, precision_score, recall_score,roc_auc_score,roc_curve"
   ]
  },
  {
   "cell_type": "code",
   "execution_count": 4,
   "metadata": {},
   "outputs": [],
   "source": [
    "os.chdir(\"C:/Users/Lenovo/Desktop/python project/project 2\")"
   ]
  },
  {
   "cell_type": "code",
   "execution_count": 5,
   "metadata": {},
   "outputs": [
    {
     "name": "stdout",
     "output_type": "stream",
     "text": [
      "(25000, 122)\n",
      "    SK_ID_CURR  TARGET NAME_CONTRACT_TYPE CODE_GENDER FLAG_OWN_CAR  \\\n",
      "0       100002       1         Cash loans           M            N   \n",
      "1       100003       0         Cash loans           F            N   \n",
      "2       100004       0    Revolving loans           M            Y   \n",
      "3       100006       0         Cash loans           F            N   \n",
      "4       100007       0         Cash loans           M            N   \n",
      "5       100008       0         Cash loans           M            N   \n",
      "6       100009       0         Cash loans           F            Y   \n",
      "7       100010       0         Cash loans           M            Y   \n",
      "8       100011       0         Cash loans           F            N   \n",
      "9       100012       0    Revolving loans           M            N   \n",
      "10      100014       0         Cash loans           F            N   \n",
      "11      100015       0         Cash loans           F            N   \n",
      "12      100016       0         Cash loans           F            N   \n",
      "13      100017       0         Cash loans           M            Y   \n",
      "14      100018       0         Cash loans           F            N   \n",
      "15      100019       0         Cash loans           M            Y   \n",
      "16      100020       0         Cash loans           M            N   \n",
      "17      100021       0    Revolving loans           F            N   \n",
      "18      100022       0    Revolving loans           F            N   \n",
      "19      100023       0         Cash loans           F            N   \n",
      "\n",
      "   FLAG_OWN_REALTY  CNT_CHILDREN  AMT_INCOME_TOTAL  AMT_CREDIT  AMT_ANNUITY  \\\n",
      "0                Y             0        202500.000    406597.5      24700.5   \n",
      "1                N             0        270000.000   1293502.5      35698.5   \n",
      "2                Y             0         67500.000    135000.0       6750.0   \n",
      "3                Y             0        135000.000    312682.5      29686.5   \n",
      "4                Y             0        121500.000    513000.0      21865.5   \n",
      "5                Y             0         99000.000    490495.5      27517.5   \n",
      "6                Y             1        171000.000   1560726.0      41301.0   \n",
      "7                Y             0        360000.000   1530000.0      42075.0   \n",
      "8                Y             0        112500.000   1019610.0      33826.5   \n",
      "9                Y             0        135000.000    405000.0      20250.0   \n",
      "10               Y             1        112500.000    652500.0      21177.0   \n",
      "11               Y             0         38419.155    148365.0      10678.5   \n",
      "12               Y             0         67500.000     80865.0       5881.5   \n",
      "13               N             1        225000.000    918468.0      28966.5   \n",
      "14               Y             0        189000.000    773680.5      32778.0   \n",
      "15               Y             0        157500.000    299772.0      20160.0   \n",
      "16               N             0        108000.000    509602.5      26149.5   \n",
      "17               Y             1         81000.000    270000.0      13500.0   \n",
      "18               Y             0        112500.000    157500.0       7875.0   \n",
      "19               Y             1         90000.000    544491.0      17563.5   \n",
      "\n",
      "               ...              FLAG_DOCUMENT_18 FLAG_DOCUMENT_19  \\\n",
      "0              ...                             0                0   \n",
      "1              ...                             0                0   \n",
      "2              ...                             0                0   \n",
      "3              ...                             0                0   \n",
      "4              ...                             0                0   \n",
      "5              ...                             0                0   \n",
      "6              ...                             0                0   \n",
      "7              ...                             0                0   \n",
      "8              ...                             0                0   \n",
      "9              ...                             0                0   \n",
      "10             ...                             0                0   \n",
      "11             ...                             0                0   \n",
      "12             ...                             0                0   \n",
      "13             ...                             0                0   \n",
      "14             ...                             0                0   \n",
      "15             ...                             0                0   \n",
      "16             ...                             0                0   \n",
      "17             ...                             0                0   \n",
      "18             ...                             0                0   \n",
      "19             ...                             0                0   \n",
      "\n",
      "   FLAG_DOCUMENT_20 FLAG_DOCUMENT_21 AMT_REQ_CREDIT_BUREAU_HOUR  \\\n",
      "0                 0                0                        0.0   \n",
      "1                 0                0                        0.0   \n",
      "2                 0                0                        0.0   \n",
      "3                 0                0                        NaN   \n",
      "4                 0                0                        0.0   \n",
      "5                 0                0                        0.0   \n",
      "6                 0                0                        0.0   \n",
      "7                 0                0                        0.0   \n",
      "8                 0                0                        0.0   \n",
      "9                 0                0                        NaN   \n",
      "10                0                0                        0.0   \n",
      "11                0                0                        0.0   \n",
      "12                0                0                        0.0   \n",
      "13                0                0                        0.0   \n",
      "14                0                0                        NaN   \n",
      "15                0                0                        0.0   \n",
      "16                0                0                        0.0   \n",
      "17                0                0                        NaN   \n",
      "18                0                0                        0.0   \n",
      "19                0                0                        0.0   \n",
      "\n",
      "   AMT_REQ_CREDIT_BUREAU_DAY  AMT_REQ_CREDIT_BUREAU_WEEK  \\\n",
      "0                        0.0                         0.0   \n",
      "1                        0.0                         0.0   \n",
      "2                        0.0                         0.0   \n",
      "3                        NaN                         NaN   \n",
      "4                        0.0                         0.0   \n",
      "5                        0.0                         0.0   \n",
      "6                        0.0                         0.0   \n",
      "7                        0.0                         0.0   \n",
      "8                        0.0                         0.0   \n",
      "9                        NaN                         NaN   \n",
      "10                       0.0                         0.0   \n",
      "11                       0.0                         0.0   \n",
      "12                       0.0                         0.0   \n",
      "13                       0.0                         0.0   \n",
      "14                       NaN                         NaN   \n",
      "15                       0.0                         0.0   \n",
      "16                       0.0                         0.0   \n",
      "17                       NaN                         NaN   \n",
      "18                       0.0                         0.0   \n",
      "19                       0.0                         0.0   \n",
      "\n",
      "    AMT_REQ_CREDIT_BUREAU_MON  AMT_REQ_CREDIT_BUREAU_QRT  \\\n",
      "0                         0.0                        0.0   \n",
      "1                         0.0                        0.0   \n",
      "2                         0.0                        0.0   \n",
      "3                         NaN                        NaN   \n",
      "4                         0.0                        0.0   \n",
      "5                         0.0                        1.0   \n",
      "6                         1.0                        1.0   \n",
      "7                         0.0                        0.0   \n",
      "8                         0.0                        0.0   \n",
      "9                         NaN                        NaN   \n",
      "10                        1.0                        0.0   \n",
      "11                        0.0                        0.0   \n",
      "12                        1.0                        0.0   \n",
      "13                        0.0                        0.0   \n",
      "14                        NaN                        NaN   \n",
      "15                        0.0                        0.0   \n",
      "16                        0.0                        1.0   \n",
      "17                        NaN                        NaN   \n",
      "18                        0.0                        0.0   \n",
      "19                        0.0                        0.0   \n",
      "\n",
      "    AMT_REQ_CREDIT_BUREAU_YEAR  \n",
      "0                          1.0  \n",
      "1                          0.0  \n",
      "2                          0.0  \n",
      "3                          NaN  \n",
      "4                          0.0  \n",
      "5                          1.0  \n",
      "6                          2.0  \n",
      "7                          0.0  \n",
      "8                          1.0  \n",
      "9                          NaN  \n",
      "10                         0.0  \n",
      "11                         2.0  \n",
      "12                         0.0  \n",
      "13                         1.0  \n",
      "14                         NaN  \n",
      "15                         1.0  \n",
      "16                         0.0  \n",
      "17                         NaN  \n",
      "18                         0.0  \n",
      "19                         2.0  \n",
      "\n",
      "[20 rows x 122 columns]\n"
     ]
    }
   ],
   "source": [
    "#Reading Application train csv\n",
    "data_df = pd.read_csv(\"app_train_df_subset_25000.csv\")\n",
    "print(data_df.shape)\n",
    "print(data_df.head(20))"
   ]
  },
  {
   "cell_type": "code",
   "execution_count": 6,
   "metadata": {},
   "outputs": [
    {
     "name": "stdout",
     "output_type": "stream",
     "text": [
      "   SK_ID_CURR  default NAME_CONTRACT_TYPE CODE_GENDER FLAG_OWN_CAR  \\\n",
      "0      100002        1         Cash loans           M            N   \n",
      "1      100003        0         Cash loans           F            N   \n",
      "2      100004        0    Revolving loans           M            Y   \n",
      "3      100006        0         Cash loans           F            N   \n",
      "4      100007        0         Cash loans           M            N   \n",
      "\n",
      "  FLAG_OWN_REALTY  CNT_CHILDREN  AMT_INCOME_TOTAL  AMT_CREDIT  AMT_ANNUITY  \\\n",
      "0               Y             0          202500.0    406597.5      24700.5   \n",
      "1               N             0          270000.0   1293502.5      35698.5   \n",
      "2               Y             0           67500.0    135000.0       6750.0   \n",
      "3               Y             0          135000.0    312682.5      29686.5   \n",
      "4               Y             0          121500.0    513000.0      21865.5   \n",
      "\n",
      "              ...              FLAG_DOCUMENT_18 FLAG_DOCUMENT_19  \\\n",
      "0             ...                             0                0   \n",
      "1             ...                             0                0   \n",
      "2             ...                             0                0   \n",
      "3             ...                             0                0   \n",
      "4             ...                             0                0   \n",
      "\n",
      "  FLAG_DOCUMENT_20 FLAG_DOCUMENT_21 AMT_REQ_CREDIT_BUREAU_HOUR  \\\n",
      "0                0                0                        0.0   \n",
      "1                0                0                        0.0   \n",
      "2                0                0                        0.0   \n",
      "3                0                0                        NaN   \n",
      "4                0                0                        0.0   \n",
      "\n",
      "  AMT_REQ_CREDIT_BUREAU_DAY  AMT_REQ_CREDIT_BUREAU_WEEK  \\\n",
      "0                       0.0                         0.0   \n",
      "1                       0.0                         0.0   \n",
      "2                       0.0                         0.0   \n",
      "3                       NaN                         NaN   \n",
      "4                       0.0                         0.0   \n",
      "\n",
      "   AMT_REQ_CREDIT_BUREAU_MON  AMT_REQ_CREDIT_BUREAU_QRT  \\\n",
      "0                        0.0                        0.0   \n",
      "1                        0.0                        0.0   \n",
      "2                        0.0                        0.0   \n",
      "3                        NaN                        NaN   \n",
      "4                        0.0                        0.0   \n",
      "\n",
      "   AMT_REQ_CREDIT_BUREAU_YEAR  \n",
      "0                         1.0  \n",
      "1                         0.0  \n",
      "2                         0.0  \n",
      "3                         NaN  \n",
      "4                         0.0  \n",
      "\n",
      "[5 rows x 122 columns]\n"
     ]
    }
   ],
   "source": [
    "#Rename column\n",
    "data_df = data_df.rename(columns={'TARGET': 'default'})\n",
    "print(data_df.head())"
   ]
  },
  {
   "cell_type": "code",
   "execution_count": 7,
   "metadata": {},
   "outputs": [
    {
     "name": "stdout",
     "output_type": "stream",
     "text": [
      "0    23004\n",
      "1     1996\n",
      "Name: default, dtype: int64\n"
     ]
    },
    {
     "data": {
      "text/plain": [
       "<matplotlib.axes._subplots.AxesSubplot at 0x23cdfdfacc0>"
      ]
     },
     "execution_count": 7,
     "metadata": {},
     "output_type": "execute_result"
    },
    {
     "data": {
      "image/png": "[encoded data removed]",
      "text/plain": [
       "<Figure size 432x288 with 1 Axes>"
      ]
     },
     "metadata": {},
     "output_type": "display_data"
    }
   ],
   "source": [
    "#Let us analyze Target column\n",
    "print(data_df['default'].value_counts())\n",
    "data_df['default'].astype(int).plot.hist()"
   ]
  },
  {
   "cell_type": "code",
   "execution_count": 8,
   "metadata": {},
   "outputs": [
    {
     "name": "stdout",
     "output_type": "stream",
     "text": [
      "SK_ID_CURR                        0\n",
      "default                           0\n",
      "NAME_CONTRACT_TYPE                0\n",
      "CODE_GENDER                       0\n",
      "FLAG_OWN_CAR                      0\n",
      "FLAG_OWN_REALTY                   0\n",
      "CNT_CHILDREN                      0\n",
      "AMT_INCOME_TOTAL                  0\n",
      "AMT_CREDIT                        0\n",
      "AMT_ANNUITY                       0\n",
      "AMT_GOODS_PRICE                  18\n",
      "NAME_TYPE_SUITE                 103\n",
      "NAME_INCOME_TYPE                  0\n",
      "NAME_EDUCATION_TYPE               0\n",
      "NAME_FAMILY_STATUS                0\n",
      "NAME_HOUSING_TYPE                 0\n",
      "REGION_POPULATION_RELATIVE        0\n",
      "DAYS_BIRTH                        0\n",
      "DAYS_EMPLOYED                     0\n",
      "DAYS_REGISTRATION                 0\n",
      "DAYS_ID_PUBLISH                   0\n",
      "OWN_CAR_AGE                   16528\n",
      "FLAG_MOBIL                        0\n",
      "FLAG_EMP_PHONE                    0\n",
      "FLAG_WORK_PHONE                   0\n",
      "FLAG_CONT_MOBILE                  0\n",
      "FLAG_PHONE                        0\n",
      "FLAG_EMAIL                        0\n",
      "OCCUPATION_TYPE                7816\n",
      "CNT_FAM_MEMBERS                   0\n",
      "                              ...  \n",
      "DEF_30_CNT_SOCIAL_CIRCLE         88\n",
      "OBS_60_CNT_SOCIAL_CIRCLE         88\n",
      "DEF_60_CNT_SOCIAL_CIRCLE         88\n",
      "DAYS_LAST_PHONE_CHANGE            1\n",
      "FLAG_DOCUMENT_2                   0\n",
      "FLAG_DOCUMENT_3                   0\n",
      "FLAG_DOCUMENT_4                   0\n",
      "FLAG_DOCUMENT_5                   0\n",
      "FLAG_DOCUMENT_6                   0\n",
      "FLAG_DOCUMENT_7                   0\n",
      "FLAG_DOCUMENT_8                   0\n",
      "FLAG_DOCUMENT_9                   0\n",
      "FLAG_DOCUMENT_10                  0\n",
      "FLAG_DOCUMENT_11                  0\n",
      "FLAG_DOCUMENT_12                  0\n",
      "FLAG_DOCUMENT_13                  0\n",
      "FLAG_DOCUMENT_14                  0\n",
      "FLAG_DOCUMENT_15                  0\n",
      "FLAG_DOCUMENT_16                  0\n",
      "FLAG_DOCUMENT_17                  0\n",
      "FLAG_DOCUMENT_18                  0\n",
      "FLAG_DOCUMENT_19                  0\n",
      "FLAG_DOCUMENT_20                  0\n",
      "FLAG_DOCUMENT_21                  0\n",
      "AMT_REQ_CREDIT_BUREAU_HOUR     3344\n",
      "AMT_REQ_CREDIT_BUREAU_DAY      3344\n",
      "AMT_REQ_CREDIT_BUREAU_WEEK     3344\n",
      "AMT_REQ_CREDIT_BUREAU_MON      3344\n",
      "AMT_REQ_CREDIT_BUREAU_QRT      3344\n",
      "AMT_REQ_CREDIT_BUREAU_YEAR     3344\n",
      "Length: 122, dtype: int64\n"
     ]
    }
   ],
   "source": [
    "#We can see clearly its a class imbalance problem.\n",
    "#Now analyze missing value\n",
    "mis_val = data_df.isnull().sum()\n",
    "print(mis_val)\n",
    "#writing the outcome to csv to analyze further\n",
    "mis_val.to_csv('case2_missing.csv')"
   ]
  },
  {
   "cell_type": "code",
   "execution_count": 9,
   "metadata": {},
   "outputs": [
    {
     "name": "stdout",
     "output_type": "stream",
     "text": [
      "float64    63\n",
      "int64      43\n",
      "object     16\n",
      "dtype: int64\n"
     ]
    }
   ],
   "source": [
    "# Number of each type of column\n",
    "print(data_df.dtypes.value_counts())"
   ]
  },
  {
   "cell_type": "code",
   "execution_count": 10,
   "metadata": {},
   "outputs": [
    {
     "name": "stdout",
     "output_type": "stream",
     "text": [
      "Index(['NAME_CONTRACT_TYPE', 'CODE_GENDER', 'FLAG_OWN_CAR', 'FLAG_OWN_REALTY',\n",
      "       'NAME_TYPE_SUITE', 'NAME_INCOME_TYPE', 'NAME_EDUCATION_TYPE',\n",
      "       'NAME_FAMILY_STATUS', 'NAME_HOUSING_TYPE', 'OCCUPATION_TYPE',\n",
      "       'WEEKDAY_APPR_PROCESS_START', 'ORGANIZATION_TYPE', 'FONDKAPREMONT_MODE',\n",
      "       'HOUSETYPE_MODE', 'WALLSMATERIAL_MODE', 'EMERGENCYSTATE_MODE'],\n",
      "      dtype='object')\n",
      "Index(['SK_ID_CURR', 'default', 'CNT_CHILDREN', 'DAYS_BIRTH', 'DAYS_EMPLOYED',\n",
      "       'DAYS_REGISTRATION', 'DAYS_ID_PUBLISH', 'FLAG_MOBIL', 'FLAG_EMP_PHONE',\n",
      "       'FLAG_WORK_PHONE', 'FLAG_CONT_MOBILE', 'FLAG_PHONE', 'FLAG_EMAIL',\n",
      "       'CNT_FAM_MEMBERS', 'REGION_RATING_CLIENT',\n",
      "       'REGION_RATING_CLIENT_W_CITY', 'HOUR_APPR_PROCESS_START',\n",
      "       'REG_REGION_NOT_LIVE_REGION', 'REG_REGION_NOT_WORK_REGION',\n",
      "       'LIVE_REGION_NOT_WORK_REGION', 'REG_CITY_NOT_LIVE_CITY',\n",
      "       'REG_CITY_NOT_WORK_CITY', 'LIVE_CITY_NOT_WORK_CITY', 'FLAG_DOCUMENT_2',\n",
      "       'FLAG_DOCUMENT_3', 'FLAG_DOCUMENT_4', 'FLAG_DOCUMENT_5',\n",
      "       'FLAG_DOCUMENT_6', 'FLAG_DOCUMENT_7', 'FLAG_DOCUMENT_8',\n",
      "       'FLAG_DOCUMENT_9', 'FLAG_DOCUMENT_10', 'FLAG_DOCUMENT_11',\n",
      "       'FLAG_DOCUMENT_12', 'FLAG_DOCUMENT_13', 'FLAG_DOCUMENT_14',\n",
      "       'FLAG_DOCUMENT_15', 'FLAG_DOCUMENT_16', 'FLAG_DOCUMENT_17',\n",
      "       'FLAG_DOCUMENT_18', 'FLAG_DOCUMENT_19', 'FLAG_DOCUMENT_20',\n",
      "       'FLAG_DOCUMENT_21'],\n",
      "      dtype='object')\n",
      "Index(['AMT_INCOME_TOTAL', 'AMT_CREDIT', 'AMT_ANNUITY', 'AMT_GOODS_PRICE',\n",
      "       'REGION_POPULATION_RELATIVE', 'OWN_CAR_AGE', 'EXT_SOURCE_1',\n",
      "       'EXT_SOURCE_2', 'EXT_SOURCE_3', 'APARTMENTS_AVG', 'BASEMENTAREA_AVG',\n",
      "       'YEARS_BEGINEXPLUATATION_AVG', 'YEARS_BUILD_AVG', 'COMMONAREA_AVG',\n",
      "       'ELEVATORS_AVG', 'ENTRANCES_AVG', 'FLOORSMAX_AVG', 'FLOORSMIN_AVG',\n",
      "       'LANDAREA_AVG', 'LIVINGAPARTMENTS_AVG', 'LIVINGAREA_AVG',\n",
      "       'NONLIVINGAPARTMENTS_AVG', 'NONLIVINGAREA_AVG', 'APARTMENTS_MODE',\n",
      "       'BASEMENTAREA_MODE', 'YEARS_BEGINEXPLUATATION_MODE', 'YEARS_BUILD_MODE',\n",
      "       'COMMONAREA_MODE', 'ELEVATORS_MODE', 'ENTRANCES_MODE', 'FLOORSMAX_MODE',\n",
      "       'FLOORSMIN_MODE', 'LANDAREA_MODE', 'LIVINGAPARTMENTS_MODE',\n",
      "       'LIVINGAREA_MODE', 'NONLIVINGAPARTMENTS_MODE', 'NONLIVINGAREA_MODE',\n",
      "       'APARTMENTS_MEDI', 'BASEMENTAREA_MEDI', 'YEARS_BEGINEXPLUATATION_MEDI',\n",
      "       'YEARS_BUILD_MEDI', 'COMMONAREA_MEDI', 'ELEVATORS_MEDI',\n",
      "       'ENTRANCES_MEDI', 'FLOORSMAX_MEDI', 'FLOORSMIN_MEDI', 'LANDAREA_MEDI',\n",
      "       'LIVINGAPARTMENTS_MEDI', 'LIVINGAREA_MEDI', 'NONLIVINGAPARTMENTS_MEDI',\n",
      "       'NONLIVINGAREA_MEDI', 'TOTALAREA_MODE', 'OBS_30_CNT_SOCIAL_CIRCLE',\n",
      "       'DEF_30_CNT_SOCIAL_CIRCLE', 'OBS_60_CNT_SOCIAL_CIRCLE',\n",
      "       'DEF_60_CNT_SOCIAL_CIRCLE', 'DAYS_LAST_PHONE_CHANGE',\n",
      "       'AMT_REQ_CREDIT_BUREAU_HOUR', 'AMT_REQ_CREDIT_BUREAU_DAY',\n",
      "       'AMT_REQ_CREDIT_BUREAU_WEEK', 'AMT_REQ_CREDIT_BUREAU_MON',\n",
      "       'AMT_REQ_CREDIT_BUREAU_QRT', 'AMT_REQ_CREDIT_BUREAU_YEAR'],\n",
      "      dtype='object')\n"
     ]
    }
   ],
   "source": [
    "print(data_df.select_dtypes('object').columns)\n",
    "print(data_df.select_dtypes('int64').columns)\n",
    "print(data_df.select_dtypes('float64').columns)"
   ]
  },
  {
   "cell_type": "code",
   "execution_count": 11,
   "metadata": {},
   "outputs": [
    {
     "name": "stdout",
     "output_type": "stream",
     "text": [
      "NAME_CONTRACT_TYPE\n",
      "CODE_GENDER\n",
      "FLAG_OWN_CAR\n",
      "FLAG_OWN_REALTY\n",
      "NAME_TYPE_SUITE\n",
      "NAME_INCOME_TYPE\n",
      "NAME_EDUCATION_TYPE\n",
      "NAME_FAMILY_STATUS\n",
      "NAME_HOUSING_TYPE\n",
      "OCCUPATION_TYPE\n",
      "WEEKDAY_APPR_PROCESS_START\n",
      "ORGANIZATION_TYPE\n",
      "FONDKAPREMONT_MODE\n",
      "HOUSETYPE_MODE\n",
      "WALLSMATERIAL_MODE\n",
      "EMERGENCYSTATE_MODE\n"
     ]
    }
   ],
   "source": [
    "#Categorical imputer\n",
    "imp=SimpleImputer(missing_values=\"NaN\", strategy=\"most_frequent\" )\n",
    "#cat_col_names=app_train_df.select_dtypes('object').columns\n",
    "cat_col_names=['NAME_CONTRACT_TYPE', 'CODE_GENDER', 'FLAG_OWN_CAR', 'FLAG_OWN_REALTY',\n",
    "       'NAME_TYPE_SUITE', 'NAME_INCOME_TYPE', 'NAME_EDUCATION_TYPE',\n",
    "       'NAME_FAMILY_STATUS', 'NAME_HOUSING_TYPE', 'OCCUPATION_TYPE',\n",
    "       'WEEKDAY_APPR_PROCESS_START', 'ORGANIZATION_TYPE', 'FONDKAPREMONT_MODE',\n",
    "       'HOUSETYPE_MODE', 'WALLSMATERIAL_MODE', 'EMERGENCYSTATE_MODE']\n",
    "for name in cat_col_names:\n",
    "    print(name)\n",
    "    data_df[name]=imp.fit_transform(data_df[[name]].astype(str)).ravel()"
   ]
  },
  {
   "cell_type": "code",
   "execution_count": 12,
   "metadata": {},
   "outputs": [
    {
     "name": "stdout",
     "output_type": "stream",
     "text": [
      "SK_ID_CURR                        0\n",
      "default                           0\n",
      "NAME_CONTRACT_TYPE                0\n",
      "CODE_GENDER                       0\n",
      "FLAG_OWN_CAR                      0\n",
      "FLAG_OWN_REALTY                   0\n",
      "CNT_CHILDREN                      0\n",
      "AMT_INCOME_TOTAL                  0\n",
      "AMT_CREDIT                        0\n",
      "AMT_ANNUITY                       0\n",
      "AMT_GOODS_PRICE                  18\n",
      "NAME_TYPE_SUITE                   0\n",
      "NAME_INCOME_TYPE                  0\n",
      "NAME_EDUCATION_TYPE               0\n",
      "NAME_FAMILY_STATUS                0\n",
      "NAME_HOUSING_TYPE                 0\n",
      "REGION_POPULATION_RELATIVE        0\n",
      "DAYS_BIRTH                        0\n",
      "DAYS_EMPLOYED                     0\n",
      "DAYS_REGISTRATION                 0\n",
      "DAYS_ID_PUBLISH                   0\n",
      "OWN_CAR_AGE                   16528\n",
      "FLAG_MOBIL                        0\n",
      "FLAG_EMP_PHONE                    0\n",
      "FLAG_WORK_PHONE                   0\n",
      "FLAG_CONT_MOBILE                  0\n",
      "FLAG_PHONE                        0\n",
      "FLAG_EMAIL                        0\n",
      "OCCUPATION_TYPE                   0\n",
      "CNT_FAM_MEMBERS                   0\n",
      "                              ...  \n",
      "DEF_30_CNT_SOCIAL_CIRCLE         88\n",
      "OBS_60_CNT_SOCIAL_CIRCLE         88\n",
      "DEF_60_CNT_SOCIAL_CIRCLE         88\n",
      "DAYS_LAST_PHONE_CHANGE            1\n",
      "FLAG_DOCUMENT_2                   0\n",
      "FLAG_DOCUMENT_3                   0\n",
      "FLAG_DOCUMENT_4                   0\n",
      "FLAG_DOCUMENT_5                   0\n",
      "FLAG_DOCUMENT_6                   0\n",
      "FLAG_DOCUMENT_7                   0\n",
      "FLAG_DOCUMENT_8                   0\n",
      "FLAG_DOCUMENT_9                   0\n",
      "FLAG_DOCUMENT_10                  0\n",
      "FLAG_DOCUMENT_11                  0\n",
      "FLAG_DOCUMENT_12                  0\n",
      "FLAG_DOCUMENT_13                  0\n",
      "FLAG_DOCUMENT_14                  0\n",
      "FLAG_DOCUMENT_15                  0\n",
      "FLAG_DOCUMENT_16                  0\n",
      "FLAG_DOCUMENT_17                  0\n",
      "FLAG_DOCUMENT_18                  0\n",
      "FLAG_DOCUMENT_19                  0\n",
      "FLAG_DOCUMENT_20                  0\n",
      "FLAG_DOCUMENT_21                  0\n",
      "AMT_REQ_CREDIT_BUREAU_HOUR     3344\n",
      "AMT_REQ_CREDIT_BUREAU_DAY      3344\n",
      "AMT_REQ_CREDIT_BUREAU_WEEK     3344\n",
      "AMT_REQ_CREDIT_BUREAU_MON      3344\n",
      "AMT_REQ_CREDIT_BUREAU_QRT      3344\n",
      "AMT_REQ_CREDIT_BUREAU_YEAR     3344\n",
      "Length: 122, dtype: int64\n"
     ]
    }
   ],
   "source": [
    "#Now analyze missing value\n",
    "mis_val = data_df.isnull().sum()\n",
    "print(mis_val)\n",
    "#writing the outcome to csv to analyze further\n",
    "mis_val.to_csv('case2_missing_after_cat_impute.csv')"
   ]
  },
  {
   "cell_type": "code",
   "execution_count": 13,
   "metadata": {},
   "outputs": [
    {
     "data": {
      "text/plain": [
       "Index(['SK_ID_CURR', 'default', 'CNT_CHILDREN', 'AMT_INCOME_TOTAL',\n",
       "       'AMT_CREDIT', 'AMT_ANNUITY', 'AMT_GOODS_PRICE',\n",
       "       'REGION_POPULATION_RELATIVE', 'DAYS_BIRTH', 'DAYS_EMPLOYED',\n",
       "       ...\n",
       "       'FLAG_DOCUMENT_18', 'FLAG_DOCUMENT_19', 'FLAG_DOCUMENT_20',\n",
       "       'FLAG_DOCUMENT_21', 'AMT_REQ_CREDIT_BUREAU_HOUR',\n",
       "       'AMT_REQ_CREDIT_BUREAU_DAY', 'AMT_REQ_CREDIT_BUREAU_WEEK',\n",
       "       'AMT_REQ_CREDIT_BUREAU_MON', 'AMT_REQ_CREDIT_BUREAU_QRT',\n",
       "       'AMT_REQ_CREDIT_BUREAU_YEAR'],\n",
       "      dtype='object', length=106)"
      ]
     },
     "execution_count": 13,
     "metadata": {},
     "output_type": "execute_result"
    }
   ],
   "source": [
    "data_df.select_dtypes(exclude='object').columns"
   ]
  },
  {
   "cell_type": "code",
   "execution_count": 16,
   "metadata": {},
   "outputs": [
    {
     "name": "stdout",
     "output_type": "stream",
     "text": [
      "SK_ID_CURR\n",
      "default\n",
      "CNT_CHILDREN\n",
      "DAYS_BIRTH\n",
      "DAYS_EMPLOYED\n",
      "DAYS_REGISTRATION\n",
      "DAYS_ID_PUBLISH\n",
      "FLAG_MOBIL\n",
      "FLAG_EMP_PHONE\n",
      "FLAG_WORK_PHONE\n",
      "FLAG_CONT_MOBILE\n",
      "FLAG_PHONE\n",
      "FLAG_EMAIL\n",
      "CNT_FAM_MEMBERS\n",
      "REGION_RATING_CLIENT\n",
      "REGION_RATING_CLIENT_W_CITY\n",
      "HOUR_APPR_PROCESS_START\n",
      "REG_REGION_NOT_LIVE_REGION\n",
      "REG_REGION_NOT_WORK_REGION\n",
      "LIVE_REGION_NOT_WORK_REGION\n",
      "REG_CITY_NOT_LIVE_CITY\n",
      "REG_CITY_NOT_WORK_CITY\n",
      "LIVE_CITY_NOT_WORK_CITY\n",
      "FLAG_DOCUMENT_2\n",
      "FLAG_DOCUMENT_3\n",
      "FLAG_DOCUMENT_4\n",
      "FLAG_DOCUMENT_5\n",
      "FLAG_DOCUMENT_6\n",
      "FLAG_DOCUMENT_7\n",
      "FLAG_DOCUMENT_8\n",
      "FLAG_DOCUMENT_9\n",
      "FLAG_DOCUMENT_10\n",
      "FLAG_DOCUMENT_11\n",
      "FLAG_DOCUMENT_12\n",
      "FLAG_DOCUMENT_13\n",
      "FLAG_DOCUMENT_14\n",
      "FLAG_DOCUMENT_15\n",
      "FLAG_DOCUMENT_16\n",
      "FLAG_DOCUMENT_17\n",
      "FLAG_DOCUMENT_18\n",
      "FLAG_DOCUMENT_19\n",
      "FLAG_DOCUMENT_20\n",
      "FLAG_DOCUMENT_21\n"
     ]
    }
   ],
   "source": [
    "#Neumerical imputer\n",
    "neum_cols=['SK_ID_CURR', 'default', 'CNT_CHILDREN', 'DAYS_BIRTH', 'DAYS_EMPLOYED',\n",
    "       'DAYS_REGISTRATION', 'DAYS_ID_PUBLISH', 'FLAG_MOBIL', 'FLAG_EMP_PHONE',\n",
    "       'FLAG_WORK_PHONE', 'FLAG_CONT_MOBILE', 'FLAG_PHONE', 'FLAG_EMAIL',\n",
    "       'CNT_FAM_MEMBERS', 'REGION_RATING_CLIENT',\n",
    "       'REGION_RATING_CLIENT_W_CITY', 'HOUR_APPR_PROCESS_START',\n",
    "       'REG_REGION_NOT_LIVE_REGION', 'REG_REGION_NOT_WORK_REGION',\n",
    "       'LIVE_REGION_NOT_WORK_REGION', 'REG_CITY_NOT_LIVE_CITY',\n",
    "       'REG_CITY_NOT_WORK_CITY', 'LIVE_CITY_NOT_WORK_CITY', 'FLAG_DOCUMENT_2',\n",
    "       'FLAG_DOCUMENT_3', 'FLAG_DOCUMENT_4', 'FLAG_DOCUMENT_5',\n",
    "       'FLAG_DOCUMENT_6', 'FLAG_DOCUMENT_7', 'FLAG_DOCUMENT_8',\n",
    "       'FLAG_DOCUMENT_9', 'FLAG_DOCUMENT_10', 'FLAG_DOCUMENT_11',\n",
    "       'FLAG_DOCUMENT_12', 'FLAG_DOCUMENT_13', 'FLAG_DOCUMENT_14',\n",
    "       'FLAG_DOCUMENT_15', 'FLAG_DOCUMENT_16', 'FLAG_DOCUMENT_17',\n",
    "       'FLAG_DOCUMENT_18', 'FLAG_DOCUMENT_19', 'FLAG_DOCUMENT_20',\n",
    "       'FLAG_DOCUMENT_21']\n",
    "neum_imp = SimpleImputer(missing_values=np.NaN, strategy='mean')\n",
    "for name in neum_cols:\n",
    "    print(name)\n",
    "    data_df[name]=neum_imp.fit_transform(data_df[[name]]).ravel()"
   ]
  },
  {
   "cell_type": "code",
   "execution_count": 17,
   "metadata": {},
   "outputs": [
    {
     "name": "stdout",
     "output_type": "stream",
     "text": [
      "AMT_INCOME_TOTAL\n",
      "AMT_CREDIT\n",
      "AMT_ANNUITY\n",
      "AMT_GOODS_PRICE\n",
      "REGION_POPULATION_RELATIVE\n",
      "OWN_CAR_AGE\n",
      "EXT_SOURCE_1\n",
      "EXT_SOURCE_2\n",
      "EXT_SOURCE_3\n",
      "APARTMENTS_AVG\n",
      "BASEMENTAREA_AVG\n",
      "YEARS_BEGINEXPLUATATION_AVG\n",
      "YEARS_BUILD_AVG\n",
      "COMMONAREA_AVG\n",
      "ELEVATORS_AVG\n",
      "ENTRANCES_AVG\n",
      "FLOORSMAX_AVG\n",
      "FLOORSMIN_AVG\n",
      "LANDAREA_AVG\n",
      "LIVINGAPARTMENTS_AVG\n",
      "LIVINGAREA_AVG\n",
      "NONLIVINGAPARTMENTS_AVG\n",
      "NONLIVINGAREA_AVG\n",
      "APARTMENTS_MODE\n",
      "BASEMENTAREA_MODE\n",
      "YEARS_BEGINEXPLUATATION_MODE\n",
      "YEARS_BUILD_MODE\n",
      "COMMONAREA_MODE\n",
      "ELEVATORS_MODE\n",
      "ENTRANCES_MODE\n",
      "FLOORSMAX_MODE\n",
      "FLOORSMIN_MODE\n",
      "LANDAREA_MODE\n",
      "LIVINGAPARTMENTS_MODE\n",
      "LIVINGAREA_MODE\n",
      "NONLIVINGAPARTMENTS_MODE\n",
      "NONLIVINGAREA_MODE\n",
      "APARTMENTS_MEDI\n",
      "BASEMENTAREA_MEDI\n",
      "YEARS_BEGINEXPLUATATION_MEDI\n",
      "YEARS_BUILD_MEDI\n",
      "COMMONAREA_MEDI\n",
      "ELEVATORS_MEDI\n",
      "ENTRANCES_MEDI\n",
      "FLOORSMAX_MEDI\n",
      "FLOORSMIN_MEDI\n",
      "LANDAREA_MEDI\n",
      "LIVINGAPARTMENTS_MEDI\n",
      "LIVINGAREA_MEDI\n",
      "NONLIVINGAPARTMENTS_MEDI\n",
      "NONLIVINGAREA_MEDI\n",
      "TOTALAREA_MODE\n",
      "OBS_30_CNT_SOCIAL_CIRCLE\n",
      "DEF_30_CNT_SOCIAL_CIRCLE\n",
      "OBS_60_CNT_SOCIAL_CIRCLE\n",
      "DEF_60_CNT_SOCIAL_CIRCLE\n",
      "DAYS_LAST_PHONE_CHANGE\n",
      "AMT_REQ_CREDIT_BUREAU_HOUR\n",
      "AMT_REQ_CREDIT_BUREAU_DAY\n",
      "AMT_REQ_CREDIT_BUREAU_WEEK\n",
      "AMT_REQ_CREDIT_BUREAU_MON\n",
      "AMT_REQ_CREDIT_BUREAU_QRT\n",
      "AMT_REQ_CREDIT_BUREAU_YEAR\n"
     ]
    }
   ],
   "source": [
    "#Neumerical imputer\n",
    "neum_cols=['AMT_INCOME_TOTAL', 'AMT_CREDIT', 'AMT_ANNUITY', 'AMT_GOODS_PRICE',\n",
    "       'REGION_POPULATION_RELATIVE', 'OWN_CAR_AGE', 'EXT_SOURCE_1',\n",
    "       'EXT_SOURCE_2', 'EXT_SOURCE_3', 'APARTMENTS_AVG', 'BASEMENTAREA_AVG',\n",
    "       'YEARS_BEGINEXPLUATATION_AVG', 'YEARS_BUILD_AVG', 'COMMONAREA_AVG',\n",
    "       'ELEVATORS_AVG', 'ENTRANCES_AVG', 'FLOORSMAX_AVG', 'FLOORSMIN_AVG',\n",
    "       'LANDAREA_AVG', 'LIVINGAPARTMENTS_AVG', 'LIVINGAREA_AVG',\n",
    "       'NONLIVINGAPARTMENTS_AVG', 'NONLIVINGAREA_AVG', 'APARTMENTS_MODE',\n",
    "       'BASEMENTAREA_MODE', 'YEARS_BEGINEXPLUATATION_MODE', 'YEARS_BUILD_MODE',\n",
    "       'COMMONAREA_MODE', 'ELEVATORS_MODE', 'ENTRANCES_MODE', 'FLOORSMAX_MODE',\n",
    "       'FLOORSMIN_MODE', 'LANDAREA_MODE', 'LIVINGAPARTMENTS_MODE',\n",
    "       'LIVINGAREA_MODE', 'NONLIVINGAPARTMENTS_MODE', 'NONLIVINGAREA_MODE',\n",
    "       'APARTMENTS_MEDI', 'BASEMENTAREA_MEDI', 'YEARS_BEGINEXPLUATATION_MEDI',\n",
    "       'YEARS_BUILD_MEDI', 'COMMONAREA_MEDI', 'ELEVATORS_MEDI',\n",
    "       'ENTRANCES_MEDI', 'FLOORSMAX_MEDI', 'FLOORSMIN_MEDI', 'LANDAREA_MEDI',\n",
    "       'LIVINGAPARTMENTS_MEDI', 'LIVINGAREA_MEDI', 'NONLIVINGAPARTMENTS_MEDI',\n",
    "       'NONLIVINGAREA_MEDI', 'TOTALAREA_MODE', 'OBS_30_CNT_SOCIAL_CIRCLE',\n",
    "       'DEF_30_CNT_SOCIAL_CIRCLE', 'OBS_60_CNT_SOCIAL_CIRCLE',\n",
    "       'DEF_60_CNT_SOCIAL_CIRCLE', 'DAYS_LAST_PHONE_CHANGE',\n",
    "       'AMT_REQ_CREDIT_BUREAU_HOUR', 'AMT_REQ_CREDIT_BUREAU_DAY',\n",
    "       'AMT_REQ_CREDIT_BUREAU_WEEK', 'AMT_REQ_CREDIT_BUREAU_MON',\n",
    "       'AMT_REQ_CREDIT_BUREAU_QRT', 'AMT_REQ_CREDIT_BUREAU_YEAR']\n",
    "neum_imp = SimpleImputer(missing_values=np.NaN, strategy='mean')\n",
    "for name in neum_cols:\n",
    "    print(name)\n",
    "    data_df[name]=neum_imp.fit_transform(data_df[[name]]).ravel()"
   ]
  },
  {
   "cell_type": "code",
   "execution_count": 18,
   "metadata": {},
   "outputs": [
    {
     "name": "stdout",
     "output_type": "stream",
     "text": [
      "SK_ID_CURR                    0\n",
      "default                       0\n",
      "NAME_CONTRACT_TYPE            0\n",
      "CODE_GENDER                   0\n",
      "FLAG_OWN_CAR                  0\n",
      "FLAG_OWN_REALTY               0\n",
      "CNT_CHILDREN                  0\n",
      "AMT_INCOME_TOTAL              0\n",
      "AMT_CREDIT                    0\n",
      "AMT_ANNUITY                   0\n",
      "AMT_GOODS_PRICE               0\n",
      "NAME_TYPE_SUITE               0\n",
      "NAME_INCOME_TYPE              0\n",
      "NAME_EDUCATION_TYPE           0\n",
      "NAME_FAMILY_STATUS            0\n",
      "NAME_HOUSING_TYPE             0\n",
      "REGION_POPULATION_RELATIVE    0\n",
      "DAYS_BIRTH                    0\n",
      "DAYS_EMPLOYED                 0\n",
      "DAYS_REGISTRATION             0\n",
      "DAYS_ID_PUBLISH               0\n",
      "OWN_CAR_AGE                   0\n",
      "FLAG_MOBIL                    0\n",
      "FLAG_EMP_PHONE                0\n",
      "FLAG_WORK_PHONE               0\n",
      "FLAG_CONT_MOBILE              0\n",
      "FLAG_PHONE                    0\n",
      "FLAG_EMAIL                    0\n",
      "OCCUPATION_TYPE               0\n",
      "CNT_FAM_MEMBERS               0\n",
      "                             ..\n",
      "DEF_30_CNT_SOCIAL_CIRCLE      0\n",
      "OBS_60_CNT_SOCIAL_CIRCLE      0\n",
      "DEF_60_CNT_SOCIAL_CIRCLE      0\n",
      "DAYS_LAST_PHONE_CHANGE        0\n",
      "FLAG_DOCUMENT_2               0\n",
      "FLAG_DOCUMENT_3               0\n",
      "FLAG_DOCUMENT_4               0\n",
      "FLAG_DOCUMENT_5               0\n",
      "FLAG_DOCUMENT_6               0\n",
      "FLAG_DOCUMENT_7               0\n",
      "FLAG_DOCUMENT_8               0\n",
      "FLAG_DOCUMENT_9               0\n",
      "FLAG_DOCUMENT_10              0\n",
      "FLAG_DOCUMENT_11              0\n",
      "FLAG_DOCUMENT_12              0\n",
      "FLAG_DOCUMENT_13              0\n",
      "FLAG_DOCUMENT_14              0\n",
      "FLAG_DOCUMENT_15              0\n",
      "FLAG_DOCUMENT_16              0\n",
      "FLAG_DOCUMENT_17              0\n",
      "FLAG_DOCUMENT_18              0\n",
      "FLAG_DOCUMENT_19              0\n",
      "FLAG_DOCUMENT_20              0\n",
      "FLAG_DOCUMENT_21              0\n",
      "AMT_REQ_CREDIT_BUREAU_HOUR    0\n",
      "AMT_REQ_CREDIT_BUREAU_DAY     0\n",
      "AMT_REQ_CREDIT_BUREAU_WEEK    0\n",
      "AMT_REQ_CREDIT_BUREAU_MON     0\n",
      "AMT_REQ_CREDIT_BUREAU_QRT     0\n",
      "AMT_REQ_CREDIT_BUREAU_YEAR    0\n",
      "Length: 122, dtype: int64\n"
     ]
    }
   ],
   "source": [
    "#Now analyze missing value\n",
    "mis_val = data_df.isnull().sum()\n",
    "print(mis_val)\n",
    "#writing the outcome to csv to analyze further\n",
    "mis_val.to_csv('case2_missing_after_neum_impute.csv')"
   ]
  },
  {
   "cell_type": "code",
   "execution_count": 19,
   "metadata": {},
   "outputs": [
    {
     "name": "stdout",
     "output_type": "stream",
     "text": [
      "   SK_ID_CURR  default NAME_CONTRACT_TYPE CODE_GENDER FLAG_OWN_CAR  \\\n",
      "0    100002.0      1.0         Cash loans           M            N   \n",
      "1    100003.0      0.0         Cash loans           F            N   \n",
      "2    100004.0      0.0    Revolving loans           M            Y   \n",
      "3    100006.0      0.0         Cash loans           F            N   \n",
      "4    100007.0      0.0         Cash loans           M            N   \n",
      "\n",
      "  FLAG_OWN_REALTY  CNT_CHILDREN  AMT_INCOME_TOTAL  AMT_CREDIT  AMT_ANNUITY  \\\n",
      "0               Y           0.0          202500.0    406597.5      24700.5   \n",
      "1               N           0.0          270000.0   1293502.5      35698.5   \n",
      "2               Y           0.0           67500.0    135000.0       6750.0   \n",
      "3               Y           0.0          135000.0    312682.5      29686.5   \n",
      "4               Y           0.0          121500.0    513000.0      21865.5   \n",
      "\n",
      "              ...              FLAG_DOCUMENT_18 FLAG_DOCUMENT_19  \\\n",
      "0             ...                           0.0              0.0   \n",
      "1             ...                           0.0              0.0   \n",
      "2             ...                           0.0              0.0   \n",
      "3             ...                           0.0              0.0   \n",
      "4             ...                           0.0              0.0   \n",
      "\n",
      "  FLAG_DOCUMENT_20 FLAG_DOCUMENT_21 AMT_REQ_CREDIT_BUREAU_HOUR  \\\n",
      "0              0.0              0.0                   0.000000   \n",
      "1              0.0              0.0                   0.000000   \n",
      "2              0.0              0.0                   0.000000   \n",
      "3              0.0              0.0                   0.007204   \n",
      "4              0.0              0.0                   0.000000   \n",
      "\n",
      "  AMT_REQ_CREDIT_BUREAU_DAY  AMT_REQ_CREDIT_BUREAU_WEEK  \\\n",
      "0                  0.000000                    0.000000   \n",
      "1                  0.000000                    0.000000   \n",
      "2                  0.000000                    0.000000   \n",
      "3                  0.007527                    0.033247   \n",
      "4                  0.000000                    0.000000   \n",
      "\n",
      "   AMT_REQ_CREDIT_BUREAU_MON  AMT_REQ_CREDIT_BUREAU_QRT  \\\n",
      "0                   0.000000                   0.000000   \n",
      "1                   0.000000                   0.000000   \n",
      "2                   0.000000                   0.000000   \n",
      "3                   0.270964                   0.263945   \n",
      "4                   0.000000                   0.000000   \n",
      "\n",
      "   AMT_REQ_CREDIT_BUREAU_YEAR  \n",
      "0                    1.000000  \n",
      "1                    0.000000  \n",
      "2                    0.000000  \n",
      "3                    1.891947  \n",
      "4                    0.000000  \n",
      "\n",
      "[5 rows x 122 columns]\n"
     ]
    }
   ],
   "source": [
    "# verifying categories before encoding app_train_df.select_dtypes('object').columns\n",
    "print(data_df.head())"
   ]
  },
  {
   "cell_type": "code",
   "execution_count": 20,
   "metadata": {},
   "outputs": [
    {
     "name": "stdout",
     "output_type": "stream",
     "text": [
      "NAME_CONTRACT_TYPE\n",
      "CODE_GENDER\n",
      "FLAG_OWN_CAR\n",
      "FLAG_OWN_REALTY\n",
      "NAME_TYPE_SUITE\n",
      "NAME_INCOME_TYPE\n",
      "NAME_EDUCATION_TYPE\n",
      "NAME_FAMILY_STATUS\n",
      "NAME_HOUSING_TYPE\n",
      "OCCUPATION_TYPE\n",
      "WEEKDAY_APPR_PROCESS_START\n",
      "ORGANIZATION_TYPE\n",
      "FONDKAPREMONT_MODE\n",
      "HOUSETYPE_MODE\n",
      "WALLSMATERIAL_MODE\n",
      "EMERGENCYSTATE_MODE\n",
      "   SK_ID_CURR  default  NAME_CONTRACT_TYPE  CODE_GENDER  FLAG_OWN_CAR  \\\n",
      "0    100002.0      1.0                   0            1             0   \n",
      "1    100003.0      0.0                   0            0             0   \n",
      "2    100004.0      0.0                   1            1             1   \n",
      "3    100006.0      0.0                   0            0             0   \n",
      "4    100007.0      0.0                   0            1             0   \n",
      "\n",
      "   FLAG_OWN_REALTY  CNT_CHILDREN  AMT_INCOME_TOTAL  AMT_CREDIT  AMT_ANNUITY  \\\n",
      "0                1           0.0          202500.0    406597.5      24700.5   \n",
      "1                0           0.0          270000.0   1293502.5      35698.5   \n",
      "2                1           0.0           67500.0    135000.0       6750.0   \n",
      "3                1           0.0          135000.0    312682.5      29686.5   \n",
      "4                1           0.0          121500.0    513000.0      21865.5   \n",
      "\n",
      "              ...              FLAG_DOCUMENT_18  FLAG_DOCUMENT_19  \\\n",
      "0             ...                           0.0               0.0   \n",
      "1             ...                           0.0               0.0   \n",
      "2             ...                           0.0               0.0   \n",
      "3             ...                           0.0               0.0   \n",
      "4             ...                           0.0               0.0   \n",
      "\n",
      "   FLAG_DOCUMENT_20  FLAG_DOCUMENT_21  AMT_REQ_CREDIT_BUREAU_HOUR  \\\n",
      "0               0.0               0.0                    0.000000   \n",
      "1               0.0               0.0                    0.000000   \n",
      "2               0.0               0.0                    0.000000   \n",
      "3               0.0               0.0                    0.007204   \n",
      "4               0.0               0.0                    0.000000   \n",
      "\n",
      "   AMT_REQ_CREDIT_BUREAU_DAY  AMT_REQ_CREDIT_BUREAU_WEEK  \\\n",
      "0                   0.000000                    0.000000   \n",
      "1                   0.000000                    0.000000   \n",
      "2                   0.000000                    0.000000   \n",
      "3                   0.007527                    0.033247   \n",
      "4                   0.000000                    0.000000   \n",
      "\n",
      "   AMT_REQ_CREDIT_BUREAU_MON  AMT_REQ_CREDIT_BUREAU_QRT  \\\n",
      "0                   0.000000                   0.000000   \n",
      "1                   0.000000                   0.000000   \n",
      "2                   0.000000                   0.000000   \n",
      "3                   0.270964                   0.263945   \n",
      "4                   0.000000                   0.000000   \n",
      "\n",
      "   AMT_REQ_CREDIT_BUREAU_YEAR  \n",
      "0                    1.000000  \n",
      "1                    0.000000  \n",
      "2                    0.000000  \n",
      "3                    1.891947  \n",
      "4                    0.000000  \n",
      "\n",
      "[5 rows x 122 columns]\n"
     ]
    }
   ],
   "source": [
    "#Label encoding\n",
    "#Encoding category columns\n",
    "cat_labelencoder = LabelEncoder()\n",
    "cat_col_names=data_df.select_dtypes('object').columns\n",
    "for name in cat_col_names:\n",
    "    print(name)\n",
    "    data_df[name]=cat_labelencoder.fit_transform(data_df[name])\n",
    "print(data_df.head())"
   ]
  },
  {
   "cell_type": "code",
   "execution_count": 22,
   "metadata": {},
   "outputs": [
    {
     "name": "stdout",
     "output_type": "stream",
     "text": [
      "(25000, 120)\n",
      "(25000, 1)\n"
     ]
    }
   ],
   "source": [
    "X = pd.DataFrame(data_df.drop(['default','SK_ID_CURR'], axis=1))\n",
    "y = pd.DataFrame(data_df['default'])\n",
    "print(X.shape)\n",
    "print(y.shape)"
   ]
  },
  {
   "cell_type": "code",
   "execution_count": 23,
   "metadata": {},
   "outputs": [
    {
     "name": "stdout",
     "output_type": "stream",
     "text": [
      "(20000, 120)\n",
      "(20000, 1)\n",
      "(5000, 120)\n",
      "(5000, 1)\n"
     ]
    }
   ],
   "source": [
    "#Train Test Split\n",
    "#Use X and y variables to split the training data into train and test set\n",
    "X_train, X_test, y_train, y_test = train_test_split(X, y, test_size = .20, random_state = 42)\n",
    "print (X_train.shape)\n",
    "print (y_train.shape)\n",
    "print (X_test.shape)\n",
    "print (y_test.shape)"
   ]
  },
  {
   "cell_type": "code",
   "execution_count": 24,
   "metadata": {},
   "outputs": [
    {
     "name": "stderr",
     "output_type": "stream",
     "text": [
      "C:\\Users\\Lenovo\\Anaconda3\\lib\\site-packages\\sklearn\\utils\\validation.py:724: DataConversionWarning: A column-vector y was passed when a 1d array was expected. Please change the shape of y to (n_samples, ), for example using ravel().\n",
      "  y = column_or_1d(y, warn=True)\n"
     ]
    },
    {
     "name": "stdout",
     "output_type": "stream",
     "text": [
      "After OverSampling, the shape of train_X: (36828, 120)\n",
      "After OverSampling, the shape of train_y: (36828,) \n",
      "\n",
      "After OverSampling, counts of label '1': 18414\n",
      "After OverSampling, counts of label '0': 18414\n"
     ]
    }
   ],
   "source": [
    "sm = SMOTE(random_state=2)\n",
    "X_train_res, y_train_res = sm.fit_sample(X_train, y_train)\n",
    "print('After OverSampling, the shape of train_X: {}'.format(X_train_res.shape))\n",
    "print('After OverSampling, the shape of train_y: {} \\n'.format(y_train_res.shape))\n",
    "\n",
    "print(\"After OverSampling, counts of label '1': {}\".format(sum(y_train_res==1)))\n",
    "print(\"After OverSampling, counts of label '0': {}\".format(sum(y_train_res==0)))"
   ]
  },
  {
   "cell_type": "code",
   "execution_count": 25,
   "metadata": {},
   "outputs": [
    {
     "name": "stdout",
     "output_type": "stream",
     "text": [
      "<class 'numpy.ndarray'>\n",
      "<class 'numpy.ndarray'>\n"
     ]
    }
   ],
   "source": [
    "print(type(X_train_res))\n",
    "print(type(y_train_res))"
   ]
  },
  {
   "cell_type": "code",
   "execution_count": 26,
   "metadata": {},
   "outputs": [
    {
     "name": "stdout",
     "output_type": "stream",
     "text": [
      "<class 'pandas.core.frame.DataFrame'>\n",
      "<class 'pandas.core.frame.DataFrame'>\n"
     ]
    }
   ],
   "source": [
    "X_train_res=pd.DataFrame(X_train_res,columns=X_train.columns)\n",
    "y_train_res=pd.DataFrame(y_train_res,columns=y_train.columns)\n",
    "print(type(X_train_res))\n",
    "print(type(y_train_res))"
   ]
  },
  {
   "cell_type": "code",
   "execution_count": 27,
   "metadata": {},
   "outputs": [],
   "source": [
    "X_train=X_train_res\n",
    "y_train=y_train_res"
   ]
  },
  {
   "cell_type": "code",
   "execution_count": 28,
   "metadata": {},
   "outputs": [
    {
     "name": "stdout",
     "output_type": "stream",
     "text": [
      "   NAME_CONTRACT_TYPE  CODE_GENDER  FLAG_OWN_CAR  FLAG_OWN_REALTY  \\\n",
      "0                 0.0          1.0           1.0              1.0   \n",
      "1                 1.0          0.0           0.0              1.0   \n",
      "2                 0.0          1.0           0.0              1.0   \n",
      "3                 0.0          0.0           0.0              1.0   \n",
      "4                 0.0          0.0           0.0              0.0   \n",
      "\n",
      "   CNT_CHILDREN  AMT_INCOME_TOTAL  AMT_CREDIT  AMT_ANNUITY  AMT_GOODS_PRICE  \\\n",
      "0           0.0          157500.0    675000.0      26284.5         675000.0   \n",
      "1           1.0           81000.0    180000.0       9000.0         180000.0   \n",
      "2           2.0          225000.0    675000.0      53460.0         675000.0   \n",
      "3           0.0           63000.0    545040.0      17536.5         450000.0   \n",
      "4           0.0          180000.0   1057266.0      43632.0         945000.0   \n",
      "\n",
      "   NAME_TYPE_SUITE             ...              FLAG_DOCUMENT_18  \\\n",
      "0              6.0             ...                           0.0   \n",
      "1              1.0             ...                           0.0   \n",
      "2              6.0             ...                           0.0   \n",
      "3              6.0             ...                           0.0   \n",
      "4              6.0             ...                           0.0   \n",
      "\n",
      "   FLAG_DOCUMENT_19  FLAG_DOCUMENT_20  FLAG_DOCUMENT_21  \\\n",
      "0               0.0               0.0               0.0   \n",
      "1               0.0               0.0               0.0   \n",
      "2               0.0               0.0               0.0   \n",
      "3               0.0               0.0               0.0   \n",
      "4               0.0               0.0               0.0   \n",
      "\n",
      "   AMT_REQ_CREDIT_BUREAU_HOUR  AMT_REQ_CREDIT_BUREAU_DAY  \\\n",
      "0                         0.0                        0.0   \n",
      "1                         0.0                        0.0   \n",
      "2                         0.0                        0.0   \n",
      "3                         0.0                        0.0   \n",
      "4                         0.0                        0.0   \n",
      "\n",
      "   AMT_REQ_CREDIT_BUREAU_WEEK  AMT_REQ_CREDIT_BUREAU_MON  \\\n",
      "0                         0.0                        0.0   \n",
      "1                         0.0                        0.0   \n",
      "2                         0.0                        0.0   \n",
      "3                         0.0                        0.0   \n",
      "4                         0.0                        2.0   \n",
      "\n",
      "   AMT_REQ_CREDIT_BUREAU_QRT  AMT_REQ_CREDIT_BUREAU_YEAR  \n",
      "0                        0.0                         4.0  \n",
      "1                        0.0                         6.0  \n",
      "2                        0.0                         3.0  \n",
      "3                        2.0                         0.0  \n",
      "4                        0.0                         2.0  \n",
      "\n",
      "[5 rows x 120 columns]\n",
      "   default\n",
      "0      0.0\n",
      "1      0.0\n",
      "2      0.0\n",
      "3      0.0\n",
      "4      0.0\n"
     ]
    }
   ],
   "source": [
    "print(X_train.head())\n",
    "print(y_train.head())"
   ]
  },
  {
   "cell_type": "code",
   "execution_count": 29,
   "metadata": {},
   "outputs": [],
   "source": [
    "from sklearn.preprocessing import MinMaxScaler\n",
    "min_max=MinMaxScaler()\n",
    "# Scaling down both train and test data set\n",
    "X_train_minmax=min_max.fit_transform(X_train)\n",
    "X_test_minmax=min_max.transform(X_test)"
   ]
  },
  {
   "cell_type": "code",
   "execution_count": 30,
   "metadata": {},
   "outputs": [
    {
     "name": "stdout",
     "output_type": "stream",
     "text": [
      "<class 'pandas.core.frame.DataFrame'>\n",
      "<class 'pandas.core.frame.DataFrame'>\n"
     ]
    }
   ],
   "source": [
    "X_train_minmax=pd.DataFrame(X_train_minmax,columns=X_train.columns)\n",
    "X_test_minmax=pd.DataFrame(X_test_minmax,columns=X_test.columns)\n",
    "print(type(X_train_minmax))\n",
    "print(type(X_test_minmax))"
   ]
  },
  {
   "cell_type": "code",
   "execution_count": 31,
   "metadata": {},
   "outputs": [],
   "source": [
    "X_train=X_train_minmax\n",
    "X_test=X_test_minmax"
   ]
  },
  {
   "cell_type": "code",
   "execution_count": 32,
   "metadata": {},
   "outputs": [
    {
     "name": "stderr",
     "output_type": "stream",
     "text": [
      "C:\\Users\\Lenovo\\Anaconda3\\lib\\site-packages\\sklearn\\preprocessing\\label.py:219: DataConversionWarning: A column-vector y was passed when a 1d array was expected. Please change the shape of y to (n_samples, ), for example using ravel().\n",
      "  y = column_or_1d(y, warn=True)\n",
      "C:\\Users\\Lenovo\\Anaconda3\\lib\\site-packages\\sklearn\\preprocessing\\label.py:252: DataConversionWarning: A column-vector y was passed when a 1d array was expected. Please change the shape of y to (n_samples, ), for example using ravel().\n",
      "  y = column_or_1d(y, warn=True)\n"
     ]
    },
    {
     "name": "stdout",
     "output_type": "stream",
     "text": [
      "[0.00176948 0.04081785 0.05300541 0.03386542 0.03754548 0.\n",
      " 0.00098419 0.00115131 0.00243201 0.01513464 0.01870324 0.05193\n",
      " 0.0084619  0.00151868 0.00057638 0.00115597 0.0016403  0.00071599\n",
      " 0.00188605 0.00089878 0.         0.         0.0083951  0.\n",
      " 0.05283146 0.0017972  0.00996171 0.04965897 0.0199642  0.00665616\n",
      " 0.01294954 0.00294912 0.         0.         0.         0.00672966\n",
      " 0.04437966 0.02757787 0.00280231 0.00441488 0.00932203 0.02228248\n",
      " 0.00235634 0.00075763 0.         0.00079795 0.00475072 0.00657751\n",
      " 0.00063869 0.00148909 0.         0.         0.00110193 0.\n",
      " 0.00908753 0.         0.00060317 0.00071494 0.00085347 0.0007293\n",
      " 0.00069307 0.         0.00626695 0.         0.         0.00096163\n",
      " 0.0010054  0.         0.01686892 0.02851624 0.         0.\n",
      " 0.         0.         0.00057803 0.04067225 0.00064702 0.00128328\n",
      " 0.         0.         0.         0.         0.         0.\n",
      " 0.00675074 0.04265906 0.00390254 0.0037447  0.06017806 0.04038713\n",
      " 0.01163381 0.02317163 0.00139884 0.00143419 0.         0.04372633\n",
      " 0.         0.         0.         0.         0.         0.\n",
      " 0.         0.         0.         0.         0.         0.\n",
      " 0.         0.         0.         0.         0.         0.\n",
      " 0.00109287 0.01487378 0.01670566 0.01372735 0.00566311 0.02413369]\n"
     ]
    }
   ],
   "source": [
    "#Feature_selection\n",
    "model = XGBClassifier(random_state=42)\n",
    "model.fit(X_train, y_train)\n",
    "print(model.feature_importances_)"
   ]
  },
  {
   "cell_type": "code",
   "execution_count": 33,
   "metadata": {},
   "outputs": [
    {
     "name": "stdout",
     "output_type": "stream",
     "text": [
      "             Features  Importance_XGB\n",
      "0  NAME_CONTRACT_TYPE        0.001769\n",
      "1         CODE_GENDER        0.040818\n",
      "2        FLAG_OWN_CAR        0.053005\n",
      "3     FLAG_OWN_REALTY        0.033865\n",
      "4        CNT_CHILDREN        0.037545\n",
      "After XGB\n"
     ]
    }
   ],
   "source": [
    "xgb_df=pd.DataFrame(list(zip( X_train.columns, model.feature_importances_)),columns=['Features','Importance_XGB'])\n",
    "print(xgb_df.head())\n",
    "print('After XGB')"
   ]
  },
  {
   "cell_type": "code",
   "execution_count": 34,
   "metadata": {},
   "outputs": [
    {
     "name": "stdout",
     "output_type": "stream",
     "text": [
      "                    Features  Importance_XGB\n",
      "88       EMERGENCYSTATE_MODE        0.060178\n",
      "2               FLAG_OWN_CAR        0.053005\n",
      "24                FLAG_PHONE        0.052831\n",
      "11       NAME_EDUCATION_TYPE        0.051930\n",
      "27           CNT_FAM_MEMBERS        0.049659\n",
      "36    REG_CITY_NOT_WORK_CITY        0.044380\n",
      "95           FLAG_DOCUMENT_3        0.043726\n",
      "85            HOUSETYPE_MODE        0.042659\n",
      "1                CODE_GENDER        0.040818\n",
      "75            ELEVATORS_MEDI        0.040672\n",
      "89  OBS_30_CNT_SOCIAL_CIRCLE        0.040387\n",
      "4               CNT_CHILDREN        0.037545\n"
     ]
    }
   ],
   "source": [
    "xgb_df=xgb_df.sort_values('Importance_XGB',ascending=False)\n",
    "print(xgb_df.head(12))"
   ]
  },
  {
   "cell_type": "code",
   "execution_count": 35,
   "metadata": {},
   "outputs": [
    {
     "name": "stdout",
     "output_type": "stream",
     "text": [
      "['EMERGENCYSTATE_MODE', 'FLAG_OWN_CAR', 'FLAG_PHONE', 'NAME_EDUCATION_TYPE', 'CNT_FAM_MEMBERS', 'REG_CITY_NOT_WORK_CITY', 'FLAG_DOCUMENT_3', 'HOUSETYPE_MODE', 'CODE_GENDER', 'ELEVATORS_MEDI', 'OBS_30_CNT_SOCIAL_CIRCLE', 'CNT_CHILDREN']\n"
     ]
    }
   ],
   "source": [
    "top_features= xgb_df['Features'].head(12).tolist()\n",
    "print(top_features)"
   ]
  },
  {
   "cell_type": "code",
   "execution_count": 36,
   "metadata": {},
   "outputs": [],
   "source": [
    "X_train=X_train[top_features]\n",
    "X_test=X_test[top_features]"
   ]
  },
  {
   "cell_type": "code",
   "execution_count": 37,
   "metadata": {},
   "outputs": [
    {
     "name": "stderr",
     "output_type": "stream",
     "text": [
      "C:\\Users\\Lenovo\\Anaconda3\\lib\\site-packages\\sklearn\\linear_model\\logistic.py:432: FutureWarning: Default solver will be changed to 'lbfgs' in 0.22. Specify a solver to silence this warning.\n",
      "  FutureWarning)\n",
      "C:\\Users\\Lenovo\\Anaconda3\\lib\\site-packages\\sklearn\\utils\\validation.py:724: DataConversionWarning: A column-vector y was passed when a 1d array was expected. Please change the shape of y to (n_samples, ), for example using ravel().\n",
      "  y = column_or_1d(y, warn=True)\n"
     ]
    },
    {
     "name": "stdout",
     "output_type": "stream",
     "text": [
      "Accuracy 58.2 %\n",
      "roc_auc_score 0.5757585418991445\n"
     ]
    }
   ],
   "source": [
    "# Create instance of model\n",
    "lreg = LogisticRegression(random_state=42)\n",
    "# Pass training data into model\n",
    "lreg.fit(X_train, y_train)\n",
    "# Predict\n",
    "y_pred_lreg = lreg.predict(X_test)\n",
    "# Score It\n",
    "logreg_accuracy = round(accuracy_score(y_test, y_pred_lreg) * 100,2)\n",
    "print('Accuracy', logreg_accuracy,'%')\n",
    "print('roc_auc_score',roc_auc_score(y_test, y_pred_lreg))"
   ]
  },
  {
   "cell_type": "code",
   "execution_count": 38,
   "metadata": {},
   "outputs": [
    {
     "name": "stderr",
     "output_type": "stream",
     "text": [
      "C:\\Users\\Lenovo\\Anaconda3\\lib\\site-packages\\ipykernel_launcher.py:4: DataConversionWarning: A column-vector y was passed when a 1d array was expected. Please change the shape of y to (n_samples, ), for example using ravel().\n",
      "  after removing the cwd from sys.path.\n"
     ]
    },
    {
     "name": "stdout",
     "output_type": "stream",
     "text": [
      "Accuracy 88.18 %\n",
      "roc_auc_score 0.5024948190658377\n"
     ]
    }
   ],
   "source": [
    "# Create instance of model\n",
    "knn = KNeighborsClassifier(n_neighbors = 5)\n",
    "# Fit to training data\n",
    "knn.fit(X_train,y_train)\n",
    "# Predict\n",
    "y_pred_knn = knn.predict(X_test)\n",
    "# Score It\n",
    "logreg_accuracy = round(accuracy_score(y_test, y_pred_knn) * 100,2)\n",
    "print('Accuracy', logreg_accuracy,'%')\n",
    "print('roc_auc_score',roc_auc_score(y_test, y_pred_knn))"
   ]
  },
  {
   "cell_type": "code",
   "execution_count": 39,
   "metadata": {},
   "outputs": [
    {
     "name": "stdout",
     "output_type": "stream",
     "text": [
      "Accuracy 89.5 %\n",
      "roc_auc_score 0.4974679844837664\n"
     ]
    }
   ],
   "source": [
    "# Create model object 35--Accuracy 85.68 % roc_auc_score 0.5404810754456927\n",
    "dtree = DecisionTreeClassifier(max_depth=35,random_state=42)\n",
    "# Fit to training sets\n",
    "dtree.fit(X_train,y_train)\n",
    "# Predict\n",
    "y_pred_dt = dtree.predict(X_test)\n",
    "# Score It\n",
    "logreg_accuracy = round(accuracy_score(y_test, y_pred_dt) * 100,2)\n",
    "print('Accuracy', logreg_accuracy,'%')\n",
    "print('roc_auc_score',roc_auc_score(y_test, y_pred_dt))"
   ]
  },
  {
   "cell_type": "code",
   "execution_count": 40,
   "metadata": {},
   "outputs": [
    {
     "name": "stderr",
     "output_type": "stream",
     "text": [
      "C:\\Users\\Lenovo\\Anaconda3\\lib\\site-packages\\ipykernel_launcher.py:4: DataConversionWarning: A column-vector y was passed when a 1d array was expected. Please change the shape of y to (n_samples,), for example using ravel().\n",
      "  after removing the cwd from sys.path.\n"
     ]
    },
    {
     "name": "stdout",
     "output_type": "stream",
     "text": [
      "Accuracy 88.74 %\n",
      "roc_auc_score 0.5199824645305277\n"
     ]
    }
   ],
   "source": [
    "# Create model object 91.9 %,0.5028338420635398, esti-15, max_depth=25\n",
    "rfc = RandomForestClassifier(n_estimators=15,random_state=42,max_depth=5)\n",
    "# Fit model to training data\n",
    "rfc.fit(X_train,y_train)\n",
    "# Predict\n",
    "y_pred_rf = rfc.predict(X_test)\n",
    "# Score It\n",
    "logreg_accuracy = round(accuracy_score(y_test, y_pred_rf) * 100,2)\n",
    "print('Accuracy', logreg_accuracy,'%')\n",
    "print('roc_auc_score',roc_auc_score(y_test, y_pred_rf))"
   ]
  },
  {
   "cell_type": "code",
   "execution_count": 41,
   "metadata": {},
   "outputs": [
    {
     "name": "stderr",
     "output_type": "stream",
     "text": [
      "C:\\Users\\Lenovo\\Anaconda3\\lib\\site-packages\\sklearn\\preprocessing\\label.py:219: DataConversionWarning: A column-vector y was passed when a 1d array was expected. Please change the shape of y to (n_samples, ), for example using ravel().\n",
      "  y = column_or_1d(y, warn=True)\n",
      "C:\\Users\\Lenovo\\Anaconda3\\lib\\site-packages\\sklearn\\preprocessing\\label.py:252: DataConversionWarning: A column-vector y was passed when a 1d array was expected. Please change the shape of y to (n_samples, ), for example using ravel().\n",
      "  y = column_or_1d(y, warn=True)\n"
     ]
    },
    {
     "name": "stdout",
     "output_type": "stream",
     "text": [
      "Accuracy 91.78 %\n",
      "roc_auc_score 0.49989106753812634\n"
     ]
    }
   ],
   "source": [
    "from xgboost import XGBClassifier\n",
    "# Basic XGB classifier \n",
    "xgb_classifier = XGBClassifier(n_estimators=100,max_depth=3,learning_rate=0.1,random_state=42)\n",
    "xgb_classifier.fit(X_train,y_train)\n",
    "# Predict\n",
    "y_pred_xgb = xgb_classifier.predict(X_test)\n",
    "# Score It\n",
    "logreg_accuracy = round(accuracy_score(y_test, y_pred_xgb) * 100,2)\n",
    "print('Accuracy', logreg_accuracy,'%')\n",
    "print('roc_auc_score',roc_auc_score(y_test, y_pred_xgb))"
   ]
  },
  {
   "cell_type": "code",
   "execution_count": null,
   "metadata": {},
   "outputs": [
    {
     "name": "stderr",
     "output_type": "stream",
     "text": [
      "C:\\Users\\Lenovo\\Anaconda3\\lib\\site-packages\\sklearn\\model_selection\\_split.py:1978: FutureWarning: The default value of cv will change from 3 to 5 in version 0.22. Specify it explicitly to silence this warning.\n",
      "  warnings.warn(CV_WARNING, FutureWarning)\n",
      "[Parallel(n_jobs=1)]: Using backend SequentialBackend with 1 concurrent workers.\n"
     ]
    },
    {
     "name": "stdout",
     "output_type": "stream",
     "text": [
      "Fitting 3 folds for each of 32 candidates, totalling 96 fits\n"
     ]
    }
   ],
   "source": [
    "from sklearn.model_selection import GridSearchCV\n",
    "#Grid searching on above algo\n",
    "n_estimators = [5,10,15,20,25,50,75,100]\n",
    "#max_depth = [2,3,5,7,9,15,20,25,50,100]\n",
    "max_depth = [5,7,15,20]\n",
    "#min_child_weight = [4,5,6,7,8]\n",
    "min_child_weight = [4,5,6]\n",
    "\n",
    "# Create parameter grid\n",
    "#param_grid = {'n_neighbors ': [0.1,1, 10, 100, 1000]}\n",
    "param_grid1 = {\n",
    "    'n_estimators':n_estimators,\n",
    "    'max_depth':max_depth\n",
    "}\n",
    "#print(param_grid)\n",
    "# Import\n",
    "\n",
    "\n",
    "# Instantiate grid object\n",
    "grid = GridSearchCV(XGBClassifier(n_estimators=50,random_state=42,learning_rate=.1),param_grid1,scoring='roc_auc', refit = True, verbose = 1)#verbose is the text output describing the process\n",
    "\n",
    "# Fit to training data\n",
    "grid.fit(X_train,y_train.values.ravel())\n",
    "print(grid.best_params_)\n",
    "# Predict\n",
    "y_pred_grid_xgb = grid.predict(X_test)\n",
    "# Score It\n",
    "logreg_accuracy = round(accuracy_score(y_test, y_pred_grid_xgb) * 100,2)\n",
    "print('Accuracy', logreg_accuracy,'%')\n",
    "print('roc_auc_score',roc_auc_score(y_test, y_pred_grid_xgb))"
   ]
  },
  {
   "cell_type": "code",
   "execution_count": null,
   "metadata": {},
   "outputs": [],
   "source": []
  }
 ],
 "metadata": {
  "kernelspec": {
   "display_name": "Python 3",
   "language": "python",
   "name": "python3"
  },
  "language_info": {
   "codemirror_mode": {
    "name": "ipython",
    "version": 3
   },
   "file_extension": ".py",
   "mimetype": "text/x-python",
   "name": "python",
   "nbconvert_exporter": "python",
   "pygments_lexer": "ipython3",
   "version": "3.6.5"
  }
 },
 "nbformat": 4,
 "nbformat_minor": 2
}
